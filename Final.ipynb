{
 "cells": [
  {
   "cell_type": "code",
   "execution_count": 30,
   "metadata": {},
   "outputs": [
    {
     "data": {
      "text/html": [
       "<div>\n",
       "<style scoped>\n",
       "    .dataframe tbody tr th:only-of-type {\n",
       "        vertical-align: middle;\n",
       "    }\n",
       "\n",
       "    .dataframe tbody tr th {\n",
       "        vertical-align: top;\n",
       "    }\n",
       "\n",
       "    .dataframe thead th {\n",
       "        text-align: right;\n",
       "    }\n",
       "</style>\n",
       "<table border=\"1\" class=\"dataframe\">\n",
       "  <thead>\n",
       "    <tr style=\"text-align: right;\">\n",
       "      <th></th>\n",
       "      <th>Country Name</th>\n",
       "      <th>Level of Repression</th>\n",
       "      <th>Unemployement</th>\n",
       "      <th>War Index</th>\n",
       "    </tr>\n",
       "  </thead>\n",
       "  <tbody>\n",
       "    <tr>\n",
       "      <th>0</th>\n",
       "      <td>Afghanistan</td>\n",
       "      <td>10.0</td>\n",
       "      <td>5.1</td>\n",
       "      <td>3.567</td>\n",
       "    </tr>\n",
       "    <tr>\n",
       "      <th>1</th>\n",
       "      <td>Albania</td>\n",
       "      <td>6.0</td>\n",
       "      <td>7.0</td>\n",
       "      <td>1.908</td>\n",
       "    </tr>\n",
       "    <tr>\n",
       "      <th>2</th>\n",
       "      <td>Algeria</td>\n",
       "      <td>6.0</td>\n",
       "      <td>5.2</td>\n",
       "      <td>2.201</td>\n",
       "    </tr>\n",
       "    <tr>\n",
       "      <th>3</th>\n",
       "      <td>Angola</td>\n",
       "      <td>6.0</td>\n",
       "      <td>4.1</td>\n",
       "      <td>2.116</td>\n",
       "    </tr>\n",
       "    <tr>\n",
       "      <th>4</th>\n",
       "      <td>Argentina</td>\n",
       "      <td>4.0</td>\n",
       "      <td>4.7</td>\n",
       "      <td>1.880</td>\n",
       "    </tr>\n",
       "  </tbody>\n",
       "</table>\n",
       "</div>"
      ],
      "text/plain": [
       "  Country Name  Level of Repression  Unemployement  War Index\n",
       "0  Afghanistan                 10.0            5.1      3.567\n",
       "1      Albania                  6.0            7.0      1.908\n",
       "2      Algeria                  6.0            5.2      2.201\n",
       "3       Angola                  6.0            4.1      2.116\n",
       "4    Argentina                  4.0            4.7      1.880"
      ]
     },
     "execution_count": 30,
     "metadata": {},
     "output_type": "execute_result"
    }
   ],
   "source": [
    "import numpy as np\n",
    "import pandas as pd\n",
    "import matplotlib.pyplot as plt\n",
    "from sklearn import preprocessing,linear_model,datasets\n",
    "from sklearn.pipeline import make_pipeline\n",
    "from sklearn.preprocessing import PolynomialFeatures\n",
    "from sklearn.linear_model import Ridge\n",
    "import csv\n",
    "\n",
    "data = pd.read_csv('Untitled spreadsheet - Sheet1.csv')\n",
    "data.head(5)"
   ]
  },
  {
   "cell_type": "code",
   "execution_count": 4,
   "metadata": {},
   "outputs": [],
   "source": [
    "df2 = pd.DataFrame(data, columns = ['Level of Repression'])\n",
    "df7 = pd.DataFrame(data, columns = ['Unemployement'])\n",
    "target = pd.DataFrame(data, columns = ['War Index'])"
   ]
  },
  {
   "cell_type": "code",
   "execution_count": 5,
   "metadata": {},
   "outputs": [],
   "source": [
    "X2 = df2\n",
    "Y = target['War Index']"
   ]
  },
  {
   "cell_type": "code",
   "execution_count": 6,
   "metadata": {},
   "outputs": [],
   "source": [
    "X7 = df7\n",
    "Y = target['War Index']\n",
    "\n"
   ]
  },
  {
   "cell_type": "code",
   "execution_count": 7,
   "metadata": {},
   "outputs": [],
   "source": [
    "poly_model2 = make_pipeline(PolynomialFeatures(1), Ridge(alpha=1E-8, fit_intercept = False))\n",
    "poly_model2 = poly_model2.fit(X2, Y)\n",
    "\n",
    "pred2 = poly_model2.predict(X2)"
   ]
  },
  {
   "cell_type": "code",
   "execution_count": 8,
   "metadata": {},
   "outputs": [],
   "source": [
    "poly_model7 = make_pipeline(PolynomialFeatures(3), Ridge(alpha=1E-8, fit_intercept = False))\n",
    "poly_model7 = poly_model7.fit(X7, Y)\n",
    "\n",
    "pred7 = poly_model7.predict(X7)"
   ]
  },
  {
   "cell_type": "code",
   "execution_count": 9,
   "metadata": {},
   "outputs": [
    {
     "name": "stdout",
     "output_type": "stream",
     "text": [
      "[1.32440566 0.12860811]\n"
     ]
    }
   ],
   "source": [
    "ridge2 = poly_model2.named_steps['ridge']\n",
    "print (ridge2.coef_)"
   ]
  },
  {
   "cell_type": "code",
   "execution_count": 10,
   "metadata": {},
   "outputs": [
    {
     "name": "stdout",
     "output_type": "stream",
     "text": [
      "[ 1.86657587 -0.09031308  0.06587022 -0.00608338]\n"
     ]
    }
   ],
   "source": [
    "ridge7 = poly_model7.named_steps['ridge']\n",
    "print (ridge7.coef_)"
   ]
  },
  {
   "cell_type": "code",
   "execution_count": null,
   "metadata": {},
   "outputs": [],
   "source": [
    "x = input('Enter the name of the country')\n",
    "f = open('Untitled spreadsheet - Sheet1.csv','r+')\n",
    "csv_f = csv.reader(f)\n",
    "for row in csv_f and:\n",
    "    print(row)"
   ]
  },
  {
   "cell_type": "code",
   "execution_count": 28,
   "metadata": {},
   "outputs": [
    {
     "name": "stdout",
     "output_type": "stream",
     "text": [
      "6.0918301690735825\n"
     ]
    }
   ],
   "source": [
    "with open('Untitled spreadsheet - Sheet1.csv') as csvDataFile:\n",
    "    csvReader = csv.reader(csvDataFile)\n",
    "    data = [row for row in csv.reader(csvDataFile)]\n",
    "    \n",
    "x1 = float(data[2][2])\n",
    "x2 = float(data[2][3])\n",
    "\n",
    "y1 = 1.52496225 + (1.2524138 * x1)#Put eqn and subsitute value\n",
    "y2 = 1.86657587 - (0.09031308 * x2) + (0.06587022 * (x2)**2) - (0.00608338 * (x2)**3)\n",
    "\n",
    "y_out = (y1 + y2)/2\n",
    "print(y_out)\n"
   ]
  },
  {
   "cell_type": "code",
   "execution_count": 29,
   "metadata": {},
   "outputs": [],
   "source": [
    "data[2][3] = y_out\n",
    "#data[].append(y_out)\n",
    "\n",
    "#with open('Untitled spreadsheet - Sheet1.csv', 'r') as readFile:\n",
    "    #reader = csv.reader(readFile)\n",
    "    #lines = list(reader)\n",
    "    #lines[50] = data50\n",
    "\n",
    "with open('Untitled spreadsheet - Sheet1.csv', 'w') as writeFile:\n",
    "    writer = csv.writer(writeFile)\n",
    "    writer.writerows(lines)\n",
    "\n",
    "readFile.close()\n",
    "writeFile.close()"
   ]
  },
  {
   "cell_type": "code",
   "execution_count": 31,
   "metadata": {},
   "outputs": [],
   "source": [
    "#f = open('Untitled spreadsheet - Sheet1.csv','r+')\n",
    "#csv_f = csv.reader(f)\n",
    "#rows = [csv_f for csv_f in reader]\n",
    "#print (row[9])\n",
    "#print (row[21])\n"
   ]
  },
  {
   "cell_type": "code",
   "execution_count": null,
   "metadata": {},
   "outputs": [],
   "source": []
  }
 ],
 "metadata": {
  "kernelspec": {
   "display_name": "Python 3",
   "language": "python",
   "name": "python3"
  },
  "language_info": {
   "codemirror_mode": {
    "name": "ipython",
    "version": 3
   },
   "file_extension": ".py",
   "mimetype": "text/x-python",
   "name": "python",
   "nbconvert_exporter": "python",
   "pygments_lexer": "ipython3",
   "version": "3.6.5"
  }
 },
 "nbformat": 4,
 "nbformat_minor": 2
}
